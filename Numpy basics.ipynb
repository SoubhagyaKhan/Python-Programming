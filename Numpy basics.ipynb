{
 "cells": [
  {
   "attachments": {},
   "cell_type": "markdown",
   "metadata": {},
   "source": [
    "Soubhagya's Notebook"
   ]
  },
  {
   "cell_type": "code",
   "execution_count": 1,
   "metadata": {},
   "outputs": [
    {
     "name": "stdout",
     "output_type": "stream",
     "text": [
      "Hello World\n"
     ]
    }
   ],
   "source": [
    "print(\"Hello World\")"
   ]
  },
  {
   "attachments": {},
   "cell_type": "markdown",
   "metadata": {},
   "source": [
    "Introduction to numpy"
   ]
  },
  {
   "cell_type": "code",
   "execution_count": 2,
   "metadata": {},
   "outputs": [
    {
     "name": "stdout",
     "output_type": "stream",
     "text": [
      "[1 2 3]\n"
     ]
    }
   ],
   "source": [
    "import numpy as np\n",
    "\n",
    "n1=np.array([1,2,3])\n",
    "print(n1)\n"
   ]
  },
  {
   "cell_type": "code",
   "execution_count": 5,
   "metadata": {},
   "outputs": [
    {
     "name": "stdout",
     "output_type": "stream",
     "text": [
      "[[0. 0. 0. 0. 0.]\n",
      " [0. 0. 0. 0. 0.]\n",
      " [0. 0. 0. 0. 0.]\n",
      " [0. 0. 0. 0. 0.]]\n",
      "[[10 10 10 10 10 10]\n",
      " [10 10 10 10 10 10]\n",
      " [10 10 10 10 10 10]\n",
      " [10 10 10 10 10 10]\n",
      " [10 10 10 10 10 10]]\n",
      "[5 7 9]\n",
      "[3 2 4 3 3 1 4 3 1 3]\n"
     ]
    }
   ],
   "source": [
    "import numpy as np\n",
    "\n",
    "n1=np.zeros((4,5))\n",
    "print(n1)\n",
    "n2=np.full((5,6),10)\n",
    "print(n2)\n",
    "n3=np.arange(5,10,2)\n",
    "print(n3)\n",
    "n4=np.random.randint(1,5,10)\n",
    "print(n4)"
   ]
  },
  {
   "cell_type": "code",
   "execution_count": 24,
   "metadata": {},
   "outputs": [
    {
     "name": "stdout",
     "output_type": "stream",
     "text": [
      "(2, 3)\n"
     ]
    }
   ],
   "source": [
    "import numpy as np\n",
    "\n",
    "n1=np.array([[1,2,3],[3,2,1]])\n",
    "print(n1.shape)\n",
    "\n"
   ]
  },
  {
   "cell_type": "code",
   "execution_count": 8,
   "metadata": {},
   "outputs": [
    {
     "name": "stdout",
     "output_type": "stream",
     "text": [
      "[[1 2]\n",
      " [3 3]\n",
      " [2 1]]\n"
     ]
    }
   ],
   "source": [
    "import numpy as np\n",
    "\n",
    "n1=np.array([[1,2,3],[3,2,1]])\n",
    "n1.shape=(3,2)\n",
    "\n",
    "print(n1)"
   ]
  },
  {
   "cell_type": "code",
   "execution_count": 1,
   "metadata": {},
   "outputs": [
    {
     "data": {
      "image/png": "[encoded data removed]",
      "text/plain": [
       "<Figure size 640x480 with 1 Axes>"
      ]
     },
     "metadata": {},
     "output_type": "display_data"
    }
   ],
   "source": [
    "import numpy as np\n",
    "import matplotlib.pyplot as plt\n",
    "\n",
    "def bezier_blend(t, control_points):\n",
    "    n = len(control_points) - 1\n",
    "    blend = 0.0\n",
    "    for i in range(n + 1):\n",
    "        blend += (control_points[i] * \n",
    "                  (np.math.factorial(n) / (np.math.factorial(i) * np.math.factorial(n - i))) * \n",
    "                  (t**i) * ((1 - t)**(n - i)))\n",
    "    return blend\n",
    "\n",
    "def plot_bezier(control_points):\n",
    "    t = np.linspace(0, 1, 100)  # Parameter values between 0 and 1\n",
    "    values = [bezier_blend(ti, control_points) for ti in t]\n",
    "\n",
    "    plt.plot(t, values)\n",
    "    plt.xlabel('t')\n",
    "    plt.ylabel('Blend')\n",
    "    plt.title('Bezier Blending Function')\n",
    "    plt.grid(True)\n",
    "    plt.show()\n",
    "\n",
    "# Example control points\n",
    "control_points = [1, 3, 6, 4, 2]\n",
    "\n",
    "plot_bezier(control_points)"
   ]
  },
  {
   "cell_type": "code",
   "execution_count": 17,
   "metadata": {},
   "outputs": [
    {
     "name": "stdout",
     "output_type": "stream",
     "text": [
      "[[1 2 3]\n",
      " [3 2 7]]\n",
      "[3 2 7 1 2 3]\n",
      "[[1 3]\n",
      " [2 2]\n",
      " [3 7]]\n",
      "[2 3]\n",
      "[7]\n"
     ]
    }
   ],
   "source": [
    "import numpy as np\n",
    "\n",
    "n1=np.array([1,2,3])\n",
    "n2=np.array([3,2,7])\n",
    "\n",
    "print(np.vstack((n1,n2)))\n",
    "print(np.hstack((n2,n1)))\n",
    "print(np.column_stack((n1,n2)))\n",
    "print(np.intersect1d(n1,n2))\n",
    "print(np.setdiff1d(n2,n1))"
   ]
  },
  {
   "cell_type": "code",
   "execution_count": 20,
   "metadata": {},
   "outputs": [
    {
     "name": "stdout",
     "output_type": "stream",
     "text": [
      "90\n",
      "[15 30 45]\n",
      "[60 30]\n",
      "n1= [15 25 35]\n",
      "[11 21 31]\n",
      "[33 63 93]\n",
      "n2= [ 8.25 15.75 23.25]\n",
      "15.75\n",
      "15.75\n",
      "8.16496580927726\n"
     ]
    }
   ],
   "source": [
    "import numpy as np\n",
    "\n",
    "n1=np.array([10,20,30])\n",
    "n2=np.array([5,10,15])\n",
    "\n",
    "print(np.sum([n1,n2]))\n",
    "print(np.sum([n1,n2],axis=0))\n",
    "print(np.sum([n1,n2],axis=1))\n",
    "n1=n1+5\n",
    "print(\"n1=\",n1)\n",
    "n2=n1-4\n",
    "print(n2)\n",
    "n2=n2*3\n",
    "print(n2)\n",
    "n2=n2/4\n",
    "print(\"n2=\",n2)\n",
    "\n",
    "print(np.mean(n2))\n",
    "print(np.median(n2))\n",
    "print(np.std(n1))"
   ]
  },
  {
   "cell_type": "code",
   "execution_count": 22,
   "metadata": {},
   "outputs": [
    {
     "name": "stdout",
     "output_type": "stream",
     "text": [
      "[1 2 3]\n",
      "[3 4 3]\n",
      "[[3 0 3]\n",
      " [5 0 4]\n",
      " [3 0 3]]\n",
      "[[1 2 1]\n",
      " [2 3 2]\n",
      " [3 4 3]]\n",
      "[[1 2 3]\n",
      " [2 3 4]\n",
      " [1 2 3]]\n"
     ]
    }
   ],
   "source": [
    "import numpy as np\n",
    "\n",
    "n1=np.array([[1,2,3],[2,3,4],[1,2,3]])\n",
    "n2=np.array([[1,0,0],[1,0,0],[0,0,1]])\n",
    "\n",
    "print(n1[0])\n",
    "print(n1[:,2])\n",
    "print(n1.dot(n2))\n",
    "print(n1.transpose())\n",
    "np.save(\"new_matrix\",n1)\n",
    "n3=np.load(\"new_matrix.npy\")\n",
    "print(n3)"
   ]
  }
 ],
 "metadata": {
  "kernelspec": {
   "display_name": "base",
   "language": "python",
   "name": "python3"
  },
  "language_info": {
   "codemirror_mode": {
    "name": "ipython",
    "version": 3
   },
   "file_extension": ".py",
   "mimetype": "text/x-python",
   "name": "python",
   "nbconvert_exporter": "python",
   "pygments_lexer": "ipython3",
   "version": "3.9.13"
  },
  "orig_nbformat": 4,
  "vscode": {
   "interpreter": {
    "hash": "4d42bc7494b83f1fe52cca0be736a00c84cad96da3f91a4643099cdc3816354f"
   }
  }
 },
 "nbformat": 4,
 "nbformat_minor": 2
}
